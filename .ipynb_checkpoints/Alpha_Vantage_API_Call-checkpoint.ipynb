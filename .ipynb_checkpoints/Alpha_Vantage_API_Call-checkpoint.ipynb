{
 "cells": [
  {
   "cell_type": "code",
   "execution_count": 1,
   "metadata": {},
   "outputs": [],
   "source": [
    "from Finviz_Screener_Scraper import scrape\n",
    "from alpha_vantage.timeseries import TimeSeries\n",
    "import pandas as pd\n",
    "import numpy as np\n",
    "import time\n",
    "from tqdm import tqdm\n",
    "\n",
    "tickers = scrape()\n",
    "ts = TimeSeries(key='EK968A2XHRMFJY8J',output_format='pandas', indexing_type='date')"
   ]
  },
  {
   "cell_type": "code",
   "execution_count": 2,
   "metadata": {},
   "outputs": [],
   "source": [
    "def MACD(df):\n",
    "    fast_len = 12\n",
    "    slow_len = 26\n",
    "    signal_len = 9\n",
    "    macd = df['close'].ewm(span=fast_len).mean() - df['close'].ewm(span=slow_len).mean()\n",
    "    signal = macd.ewm(span=signal_len).mean()\n",
    "    indicator = macd - signal\n",
    "    return indicator[-1]>indicator[-2]\n",
    "\n",
    "#import talib\n",
    "#macd, macdsignal, macdhist = talib.MACD(data['close'])\n",
    "\n",
    "def KDJ(df,N=9,M1=3):\n",
    "    llv_low = data['low'].rolling(N).min()\n",
    "    hhv_high = data['high'].rolling(N).max()\n",
    "    rsv = (df['close'] - llv_low)/(hhv_high - llv_low)\n",
    "    k = rsv.ewm(adjust=False,alpha=1/M1).mean()\n",
    "    d = k.ewm(adjust=False,alpha=1/M1).mean()\n",
    "    j = 3*k-2*d\n",
    "    today = (j-d)[-1]; yesterday = (j-d).shift(1)[-1]\n",
    "    \n",
    "    return today>0# and yesterday <0\n",
    "\n",
    "def perc(df):\n",
    "    short_avg = df['close'].rolling(window=3).mean()[-1]\n",
    "    long_avg = df['close'].rolling(window=50).mean()[-1]\n",
    "    \n",
    "    return (short_avg - long_avg)/long_avg"
   ]
  },
  {
   "cell_type": "code",
   "execution_count": 3,
   "metadata": {},
   "outputs": [
    {
     "name": "stderr",
     "output_type": "stream",
     "text": [
      " 32%|███▏      | 37/117 [08:31<18:26, 13.83s/it]"
     ]
    },
    {
     "ename": "KeyboardInterrupt",
     "evalue": "",
     "output_type": "error",
     "traceback": [
      "\u001b[0;31m---------------------------------------------------------------------------\u001b[0m",
      "\u001b[0;31mKeyboardInterrupt\u001b[0m                         Traceback (most recent call last)",
      "\u001b[0;32m<ipython-input-3-b249f8c47d0f>\u001b[0m in \u001b[0;36m<module>\u001b[0;34m\u001b[0m\n\u001b[1;32m     11\u001b[0m     \u001b[0mdata\u001b[0m\u001b[0;34m.\u001b[0m\u001b[0mcolumns\u001b[0m \u001b[0;34m=\u001b[0m \u001b[0;34m[\u001b[0m\u001b[0;34m'open'\u001b[0m\u001b[0;34m,\u001b[0m\u001b[0;34m'high'\u001b[0m\u001b[0;34m,\u001b[0m\u001b[0;34m'low'\u001b[0m\u001b[0;34m,\u001b[0m\u001b[0;34m'close'\u001b[0m\u001b[0;34m,\u001b[0m\u001b[0;34m'volume'\u001b[0m\u001b[0;34m]\u001b[0m\u001b[0;34m\u001b[0m\u001b[0;34m\u001b[0m\u001b[0m\n\u001b[1;32m     12\u001b[0m \u001b[0;34m\u001b[0m\u001b[0m\n\u001b[0;32m---> 13\u001b[0;31m     \u001b[0mtime\u001b[0m\u001b[0;34m.\u001b[0m\u001b[0msleep\u001b[0m\u001b[0;34m(\u001b[0m\u001b[0;36m12\u001b[0m\u001b[0;34m)\u001b[0m\u001b[0;34m\u001b[0m\u001b[0;34m\u001b[0m\u001b[0m\n\u001b[0m\u001b[1;32m     14\u001b[0m \u001b[0;34m\u001b[0m\u001b[0m\n\u001b[1;32m     15\u001b[0m     \u001b[0mbuy_list\u001b[0m\u001b[0;34m[\u001b[0m\u001b[0;34m'symbol'\u001b[0m\u001b[0;34m]\u001b[0m\u001b[0;34m.\u001b[0m\u001b[0mappend\u001b[0m\u001b[0;34m(\u001b[0m\u001b[0mticker\u001b[0m\u001b[0;34m)\u001b[0m\u001b[0;34m\u001b[0m\u001b[0;34m\u001b[0m\u001b[0m\n",
      "\u001b[0;31mKeyboardInterrupt\u001b[0m: "
     ]
    }
   ],
   "source": [
    "buy_list = {\n",
    "    'symbol':[],\n",
    "    'pass':[],\n",
    "    'percentage':[],\n",
    "    'price':[],\n",
    "    'change':[]\n",
    "}\n",
    "for ticker in tqdm(tickers):\n",
    "    data, meta_data = ts.get_daily(symbol=ticker, outputsize='compact')\n",
    "    if data.shape[0]<100:\n",
    "        pass\n",
    "    data.columns = ['open','high','low','close','volume']\n",
    "    \n",
    "    time.sleep(12)\n",
    "    \n",
    "    buy_list['change'].append(str(round((data['close'][-1]-data['close'][-2])/data['close'][-2]*100,2))+'%')\n",
    "    buy_list['symbol'].append(ticker)\n",
    "    buy_list['pass'].append(KDJ(data)*MACD(data))\n",
    "    buy_list['percentage'].append(perc(data))\n",
    "    buy_list['price'].append(data['close'][-1])"
   ]
  },
  {
   "cell_type": "code",
   "execution_count": null,
   "metadata": {},
   "outputs": [],
   "source": [
    "k = pd.DataFrame(buy_list)\n",
    "\n",
    "from email.mime.multipart import MIMEMultipart\n",
    "from email.mime.text import MIMEText\n",
    "import smtplib\n",
    "from datetime import datetime\n",
    " \n",
    "# create message object instance\n",
    "msg = MIMEMultipart()\n",
    " \n",
    "\n",
    "message = k[k['pass'] == True].sort_values(by=['percentage']).to_html()\n",
    " \n",
    "# setup the parameters of the message\n",
    "password = \"stockscreener19\"\n",
    "msg['From'] = \"ikushi.stockscreener@gmail.com\"\n",
    "msg['To'] = \"xd.9440502@gmail.com\"\n",
    "msg['Subject'] = \"{}_Screening_Complete\".format(str(datetime.now())[:10].replace('-',''))\n",
    " \n",
    "# add in the message body\n",
    "msg.attach(MIMEText(message, 'html'))\n",
    " \n",
    "#create server\n",
    "server = smtplib.SMTP_SSL('smtp.gmail.com', 465)\n",
    " \n",
    "#server.starttls()\n",
    " \n",
    "# Login Credentials for sending the mail\n",
    "server.login(msg['From'], password)\n",
    " \n",
    "\n",
    "# send the message via the server.\n",
    "server.sendmail(msg['From'], msg['To'], msg.as_string())\n",
    " \n",
    "server.quit()\n",
    " \n",
    "#print \"successfully sent email to %s:\" % (msg['To'])"
   ]
  },
  {
   "cell_type": "code",
   "execution_count": null,
   "metadata": {},
   "outputs": [],
   "source": [
    "k"
   ]
  },
  {
   "cell_type": "code",
   "execution_count": null,
   "metadata": {},
   "outputs": [],
   "source": []
  }
 ],
 "metadata": {
  "kernelspec": {
   "display_name": "Python 3",
   "language": "python",
   "name": "python3"
  },
  "language_info": {
   "codemirror_mode": {
    "name": "ipython",
    "version": 3
   },
   "file_extension": ".py",
   "mimetype": "text/x-python",
   "name": "python",
   "nbconvert_exporter": "python",
   "pygments_lexer": "ipython3",
   "version": "3.7.3"
  }
 },
 "nbformat": 4,
 "nbformat_minor": 2
}
